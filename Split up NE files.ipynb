{
 "cells": [
  {
   "cell_type": "markdown",
   "id": "281b3c39",
   "metadata": {},
   "source": [
    "Split up the ES files to make them small enough for Github (5 files should be enough)"
   ]
  },
  {
   "cell_type": "code",
   "execution_count": null,
   "id": "42541716",
   "metadata": {},
   "outputs": [],
   "source": [
    "import pandas as pd \n",
    "\n",
    "# get the ES.csv file and split up into 5 files\n",
    "df = pd.read_csv('NE.csv')\n",
    "\n",
    "\n",
    "# split the dataframe into 5 equal parts\n",
    "num_rows = len(df)\n",
    "split_size = num_rows // 10\n",
    "dfs = [df.iloc[i:i + split_size] for i in range(0, num_rows, split_size)]\n",
    "\n",
    "# save each part to a new CSV file\n",
    "for i, part in enumerate(dfs):\n",
    "    part.to_csv(f'NE_part_{i + 1}.csv', index=False)\n",
    "\n",
    "# print the number of rows in each part\n",
    "for i, part in enumerate(dfs):\n",
    "    print(f'Part {i + 1} has {len(part)} rows.')"
   ]
  },
  {
   "cell_type": "code",
   "execution_count": 2,
   "id": "0a838fb3",
   "metadata": {},
   "outputs": [
    {
     "name": "stdout",
     "output_type": "stream",
     "text": [
      "Start date: 2008-02-01 00:00:00, End date: 2024-12-19 00:00:00\n"
     ]
    }
   ],
   "source": [
    "# load the ES_part_x files up to number 11 into df_es\n",
    "import numpy as np\n",
    "import pandas as pd\n",
    "df_es = pd.DataFrame()\n",
    "\n",
    "for i in range(1, 12):\n",
    "    file_name = f'NE_part_{i}.csv'\n",
    "    try:\n",
    "        df_part = pd.read_csv(file_name)\n",
    "        df_es = pd.concat([df_es, df_part], ignore_index=True)\n",
    "    except FileNotFoundError:\n",
    "        print(f\"File {file_name} not found. Skipping.\")\n",
    "\n",
    "# print start and last date from df_es on 'Date' column\n",
    "if not df_es.empty:\n",
    "    df_es['Date'] = pd.to_datetime(df_es['Date'])\n",
    "    start_date = df_es['Date'].min()\n",
    "    end_date = df_es['Date'].max()\n",
    "    print(f\"Start date: {start_date}, End date: {end_date}\")"
   ]
  }
 ],
 "metadata": {
  "kernelspec": {
   "display_name": "intel_env",
   "language": "python",
   "name": "python3"
  },
  "language_info": {
   "codemirror_mode": {
    "name": "ipython",
    "version": 3
   },
   "file_extension": ".py",
   "mimetype": "text/x-python",
   "name": "python",
   "nbconvert_exporter": "python",
   "pygments_lexer": "ipython3",
   "version": "3.9.23"
  }
 },
 "nbformat": 4,
 "nbformat_minor": 5
}
